{
 "cells": [
  {
   "cell_type": "markdown",
   "id": "c8eaa7cf-d6c4-48e0-8517-1f37ffcb3b6c",
   "metadata": {},
   "source": [
    "## Write a python program to find palindromes in the given list of strings using lambda and filter function.\n",
    "['python', 'php', 'aba', 'radar', 'level']"
   ]
  },
  {
   "cell_type": "code",
   "execution_count": 1,
   "id": "b512d996-712c-4453-b93c-d9e89b8f66d0",
   "metadata": {},
   "outputs": [],
   "source": [
    "l=['python','aba','radar','level']"
   ]
  },
  {
   "cell_type": "code",
   "execution_count": 4,
   "id": "4ab376da-9987-4236-b48e-a2b5f990aba7",
   "metadata": {},
   "outputs": [
    {
     "data": {
      "text/plain": [
       "['aba', 'radar', 'level']"
      ]
     },
     "execution_count": 4,
     "metadata": {},
     "output_type": "execute_result"
    }
   ],
   "source": [
    "list(filter(lambda x:x==\"\".join(reversed(x)),l))"
   ]
  }
 ],
 "metadata": {
  "kernelspec": {
   "display_name": "Python 3 (ipykernel)",
   "language": "python",
   "name": "python3"
  },
  "language_info": {
   "codemirror_mode": {
    "name": "ipython",
    "version": 3
   },
   "file_extension": ".py",
   "mimetype": "text/x-python",
   "name": "python",
   "nbconvert_exporter": "python",
   "pygments_lexer": "ipython3",
   "version": "3.10.8"
  }
 },
 "nbformat": 4,
 "nbformat_minor": 5
}
