{
 "cells": [
  {
   "cell_type": "markdown",
   "id": "17cfd0a1-3dd3-429b-a465-84b697a066cb",
   "metadata": {},
   "source": [
    "## Write a python program to convert the given list of integers into a tuple of strings. Use map and lambda functions"
   ]
  },
  {
   "cell_type": "code",
   "execution_count": 1,
   "id": "5c384770-daa0-4ab2-8d38-c080a0c768ec",
   "metadata": {},
   "outputs": [],
   "source": [
    "l=[1,2,3,4,5,6,7,8,9,10]"
   ]
  },
  {
   "cell_type": "code",
   "execution_count": 3,
   "id": "d02d5eb7-a84b-4f6e-b87e-d2d20cdd322b",
   "metadata": {},
   "outputs": [],
   "source": [
    "t=tuple(list(map(lambda x:str(x),l)))"
   ]
  },
  {
   "cell_type": "code",
   "execution_count": 4,
   "id": "7e11783c-962a-4d59-aee6-1e0863aebabe",
   "metadata": {},
   "outputs": [
    {
     "data": {
      "text/plain": [
       "('1', '2', '3', '4', '5', '6', '7', '8', '9', '10')"
      ]
     },
     "execution_count": 4,
     "metadata": {},
     "output_type": "execute_result"
    }
   ],
   "source": [
    "t"
   ]
  }
 ],
 "metadata": {
  "kernelspec": {
   "display_name": "Python 3 (ipykernel)",
   "language": "python",
   "name": "python3"
  },
  "language_info": {
   "codemirror_mode": {
    "name": "ipython",
    "version": 3
   },
   "file_extension": ".py",
   "mimetype": "text/x-python",
   "name": "python",
   "nbconvert_exporter": "python",
   "pygments_lexer": "ipython3",
   "version": "3.10.8"
  }
 },
 "nbformat": 4,
 "nbformat_minor": 5
}
