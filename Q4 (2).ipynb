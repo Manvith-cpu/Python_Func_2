{
 "cells": [
  {
   "cell_type": "markdown",
   "id": "e90c99ec-adda-4727-8eff-7f2672ce8920",
   "metadata": {},
   "source": [
    "## Write a python program using reduce function to compute the product of a list containing numbers from 1 to 25."
   ]
  },
  {
   "cell_type": "code",
   "execution_count": 5,
   "id": "19ce0d9e-37e6-4394-ad2f-1639c80ce741",
   "metadata": {},
   "outputs": [],
   "source": [
    "l=[i for i in range(1,26)]"
   ]
  },
  {
   "cell_type": "code",
   "execution_count": 6,
   "id": "8c83abde-b115-48ee-b8ea-0f3b90908569",
   "metadata": {},
   "outputs": [
    {
     "name": "stdout",
     "output_type": "stream",
     "text": [
      "[1, 2, 3, 4, 5, 6, 7, 8, 9, 10, 11, 12, 13, 14, 15, 16, 17, 18, 19, 20, 21, 22, 23, 24, 25]"
     ]
    }
   ],
   "source": [
    "print(l,end=\"\")"
   ]
  },
  {
   "cell_type": "code",
   "execution_count": 9,
   "id": "2e49d2bc-4d39-4420-8910-fc500998d3bd",
   "metadata": {},
   "outputs": [
    {
     "data": {
      "text/plain": [
       "15511210043330985984000000"
      ]
     },
     "execution_count": 9,
     "metadata": {},
     "output_type": "execute_result"
    }
   ],
   "source": [
    "from functools import reduce\n",
    "reduce(lambda x,y:x*y,l)"
   ]
  }
 ],
 "metadata": {
  "kernelspec": {
   "display_name": "Python 3 (ipykernel)",
   "language": "python",
   "name": "python3"
  },
  "language_info": {
   "codemirror_mode": {
    "name": "ipython",
    "version": 3
   },
   "file_extension": ".py",
   "mimetype": "text/x-python",
   "name": "python",
   "nbconvert_exporter": "python",
   "pygments_lexer": "ipython3",
   "version": "3.10.8"
  }
 },
 "nbformat": 4,
 "nbformat_minor": 5
}
